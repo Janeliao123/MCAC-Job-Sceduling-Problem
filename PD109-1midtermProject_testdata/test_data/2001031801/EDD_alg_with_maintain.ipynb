{
 "cells": [
  {
   "cell_type": "code",
   "execution_count": 1,
   "metadata": {},
   "outputs": [],
   "source": [
    "from tqdm import tqdm \n",
    "import random\n",
    "import numpy as np\n",
    "import copy"
   ]
  },
  {
   "cell_type": "code",
   "execution_count": 2,
   "metadata": {},
   "outputs": [],
   "source": [
    "def job_time(workload, initial_yield_rate, decrease_rate, lower_bound, pro_rate):  # 計算訂單要花多少時間\n",
    "    time = 0\n",
    "    after_rate = initial_yield_rate\n",
    "    while workload > 0:  # 直到滿足訂單數\n",
    "        rec_rate = (after_rate/100)*pro_rate\n",
    "        workload -= rec_rate\n",
    "        if after_rate > lower_bound:\n",
    "            after_rate -= decrease_rate\n",
    "            if after_rate < lower_bound:  # 不能低於良率 lower bound\n",
    "                after_rate = lower_bound      \n",
    "        time += 1\n",
    "    return time, after_rate"
   ]
  },
  {
   "cell_type": "code",
   "execution_count": 4,
   "metadata": {},
   "outputs": [],
   "source": [
    "def insert_maintenance(time, maintain_t, pro_rate, schedule, tardiness, decrease_rate, L_yield_rate):  # 在某個時間點插入維修重新規劃後的結果\n",
    "    time += maintain_t  # 加上維修時間\n",
    "    init_yr = 100  # 修到 100 %\n",
    "    new_tard = tardiness\n",
    "    new_schedule = []\n",
    "    new_tardiness_list = []\n",
    "    for job_n,t,_ in schedule:  # 剩下還沒有排到的工作\n",
    "        due = job_dic[job_n][1]\n",
    "        new_schedule.append((job_n, time, init_yr))\n",
    "        cost_time, after_yield = job_time(job_dic[job_n][0], init_yr, decrease_rate, L_yield_rate, pro_rate)\n",
    "        time += cost_time\n",
    "        init_yr = after_yield\n",
    "        new_tard += max(time-due,0)  # 只有太晚做完才要算 cost\n",
    "        new_tardiness_list.append((job_n,new_tard))\n",
    "    return new_tardiness_list, new_tard, new_schedule"
   ]
  },
  {
   "cell_type": "code",
   "execution_count": 5,
   "metadata": {
    "scrolled": true
   },
   "outputs": [],
   "source": [
    "def decide_maintenance(job_schedule, cu_tard, tardiness, h, pro_rate, maintain_time):  # GREEDY 選擇會更好的維修決策\n",
    "    maintenance_schedule = []  #紀錄修過的紀錄 (機台,時間)\n",
    "    cnt = 0\n",
    "    new_cu_tard = copy.deepcopy(cu_tard)\n",
    "    new_tardiness = copy.deepcopy(tardiness)\n",
    "    new_job_schedule = copy.deepcopy(job_schedule)\n",
    "    while cnt < h:  # 最多可以修 h 台\n",
    "        flag = 0  # 假設該輪沒有找到更好的，就會是 0\n",
    "        best_improve_tard = 0\n",
    "        for machine in range(len(job_schedule)):  # 每台機台都跑過\n",
    "            machine_no = machine + 1\n",
    "            index = 0  # 紀錄跑到機台上的哪個 job\n",
    "            m_improve_tard = 0\n",
    "            m_tard = new_cu_tard[machine_no]  # 初始設定最小 tardiness為原先機台 (machine_no) 的 tardiness\n",
    "#             print(new_job_schedule)\n",
    "            for job_no,time,yr in new_job_schedule[machine_no]:  # 每台機台的每個地方插入維修，求最好的\n",
    "                temp_tardiness_list, temp_tard, temp_schedule = insert_maintenance(time, maintain_time[machine_no], pro_rate[machine_no], new_job_schedule[machine_no][index:], \n",
    "                                                            new_tardiness[machine_no][index][1], decrease_rate[machine_no], L_yield_rate[machine_no])  # 計算插入 maintenance 後會不會比較好\n",
    "                if temp_tard < m_tard:\n",
    "#                     print(\"可以改善該機台\")\n",
    "                    flag = 1\n",
    "                    m_index = index\n",
    "                    m_improve_tard = m_tard - temp_tard\n",
    "                    m_tard = temp_tard\n",
    "                    m_tardiness_list = temp_tardiness_list\n",
    "                    m_schedule = temp_schedule\n",
    "                    m_info = (machine_no,time)  # (維修機台, 維修時間)\n",
    "                index += 1\n",
    "            if m_improve_tard > best_improve_tard:\n",
    "#                 print(\"可以改善整體\")\n",
    "                best_index = m_index\n",
    "                best_tard = m_tard\n",
    "                best_tardiness_list = m_tardiness_list\n",
    "                best_schedule = m_schedule\n",
    "                best_info = m_info\n",
    "                best_improve_tard = m_improve_tard\n",
    "        if flag == 1:  # 維修會更好\n",
    "            cnt += 1\n",
    "            new_cu_tard[best_info[0]] = best_tard\n",
    "            new_tardiness[best_info[0]][best_index:]= best_tardiness_list\n",
    "            new_job_schedule[best_info[0]][best_index:] = best_schedule\n",
    "            maintenance_schedule.append(best_info)\n",
    "        else:\n",
    "            break\n",
    "    return maintenance_schedule, new_cu_tard, new_tardiness, new_job_schedule"
   ]
  },
  {
   "cell_type": "code",
   "execution_count": 6,
   "metadata": {},
   "outputs": [],
   "source": [
    "def find_max_q_job(job_schedule):  # 找出同一層的工作\n",
    "    pos_jobs = {}\n",
    "    max_pos = max([len(x) for x in job_schedule.values()])\n",
    "    position = range(0,max_pos)\n",
    "    for p in position:\n",
    "        pos_jobs[p] = []\n",
    "        for j in job_schedule:\n",
    "            if len(job_schedule[j]) > p:\n",
    "                 pos_jobs[p].append(job_schedule[j][p][0])\n",
    "    return pos_jobs"
   ]
  },
  {
   "cell_type": "code",
   "execution_count": 7,
   "metadata": {},
   "outputs": [],
   "source": [
    "def reschedule(time, init_yr, new_job, pro_rate, schedule, tardiness, decrease_rate, L_yield_rate):  #將工作重新排列後\n",
    "    new_tard = tardiness\n",
    "    new_tardiness_list = []\n",
    "    new_schedule = []\n",
    "    # 算新插入的交換工作\n",
    "    new_schedule.append((new_job, time, init_yr))\n",
    "    cost_time, after_yield = job_time(job_dic[new_job][0], init_yr, decrease_rate, L_yield_rate, pro_rate)\n",
    "    time += cost_time\n",
    "    init_yr = after_yield\n",
    "    due = job_dic[new_job][1]\n",
    "    new_tard += max(time-due,0)\n",
    "    new_tardiness_list.append((new_job,new_tard))\n",
    "    # 後面依序重新計算\n",
    "    for job_n,t,_ in schedule:\n",
    "        due = job_dic[job_n][1]\n",
    "        new_schedule.append((job_n, time, init_yr))\n",
    "        cost_time, after_yield = job_time(job_dic[job_n][0], init_yr, decrease_rate, L_yield_rate, pro_rate)\n",
    "        time += cost_time\n",
    "        init_yr = after_yield\n",
    "        new_tard += max(time-due,0)  # 只有太晚做完才要算 cost\n",
    "        new_tardiness_list.append((job_n,new_tard))\n",
    "    return new_tardiness_list, new_tard, new_schedule"
   ]
  },
  {
   "cell_type": "code",
   "execution_count": 8,
   "metadata": {},
   "outputs": [],
   "source": [
    "# 讀入 input\n",
    "with open(\"m5n50_3.txt\",\"r\") as f:\n",
    "    m_n_h = [int(x) for x in f.readline().strip().split(' ')]\n",
    "    m = m_n_h[0]  # 機台數\n",
    "    n = m_n_h[1]  # 訂單數\n",
    "    h = m_n_h[2]  # 最多修幾台\n",
    "    pro_rate = {}  # 生產速率\n",
    "    decrease_rate = {}  # 機台下降良率\n",
    "    maintain_time = {}  # 機台維修時間\n",
    "    initial_yield_rate = {}  # 初始良率\n",
    "    L_yield_rate = {}  # 最低良率\n",
    "    for i in range(m):  # 機台編號由 1 開始\n",
    "        machine_info = [int(x) for x in f.readline().strip().split(' ')]\n",
    "        pro_rate[i+1] = machine_info[0]\n",
    "        decrease_rate[i+1] = machine_info[1]\n",
    "        maintain_time[i+1] = machine_info[2]\n",
    "        initial_yield_rate[i+1] = machine_info[3]\n",
    "        L_yield_rate[i+1] = machine_info[4]\n",
    "    lines = f.readlines()\n",
    "job_dic = {}  # job_dic[機台編號] = [訂購量,交期]\n",
    "job_no = 1\n",
    "for l in lines:\n",
    "    temp = [int(x) for x in l.strip().split(' ')]\n",
    "    job_dic[job_no] = temp  \n",
    "    job_no += 1\n"
   ]
  },
  {
   "cell_type": "code",
   "execution_count": 9,
   "metadata": {},
   "outputs": [],
   "source": [
    "# 排工作，不考慮維修 (initail solution)\n",
    "sort_job_dic = dict(sorted(job_dic.items(), key=lambda item: item[1][0]))\n",
    "sort_job_dic = dict(sorted(sort_job_dic.items(), key=lambda item: item[1][1]))\n",
    "# print(sort_job_dic)\n",
    "machine_workload = {}  # 紀錄結束工作量\n",
    "job_schedule = {}  #記錄 (job,開始時間,初始良率)\n",
    "tardiness= {}  #記錄各機台累積的 (job,tardiness)\n",
    "cu_tard = {}  # 記錄各機台累積 tardiness\n",
    "init_yr = {}  # 複製紀錄初始良率"
   ]
  },
  {
   "cell_type": "code",
   "execution_count": 10,
   "metadata": {},
   "outputs": [
    {
     "name": "stderr",
     "output_type": "stream",
     "text": [
      "100%|███████████████████████████████████████████████████████████████████████████████| 50/50 [00:00<00:00, 25055.58it/s]\n"
     ]
    }
   ],
   "source": [
    "# 產生 EDD 排程\n",
    "for i in range(m):\n",
    "    machine_workload[i+1] = 0\n",
    "    job_schedule[i+1] = []\n",
    "    cu_tard[i+1] = 0\n",
    "    tardiness[i+1] = []\n",
    "    init_yr[i+1] = copy.deepcopy(initial_yield_rate[i+1])\n",
    "\n",
    "for no,[load,due] in tqdm(sort_job_dic.items()):  #利用 EDD + SPT 排完所有工作\n",
    "    min_machine = sorted(machine_workload.items(), key=lambda item: item[1])[0][0]  # 選目前完成時間最短的機台\n",
    "    job_schedule[min_machine].append((no,machine_workload[min_machine],init_yr[min_machine]))  \n",
    "    cost_time, after_yield = job_time(load, init_yr[min_machine], decrease_rate[min_machine], L_yield_rate[min_machine],pro_rate[min_machine])\n",
    "    machine_workload[min_machine] += cost_time\n",
    "    init_yr[min_machine] = after_yield\n",
    "    cu_tard[min_machine] += max(machine_workload[min_machine]-due,0)  # 只有太晚做完才要算 cost\n",
    "    tardiness[min_machine].append((no,cu_tard[min_machine]))"
   ]
  },
  {
   "cell_type": "code",
   "execution_count": 12,
   "metadata": {},
   "outputs": [
    {
     "data": {
      "text/plain": [
       "{1: [(23, 0, 90),\n",
       "  (36, 9, 63),\n",
       "  (7, 20, 45),\n",
       "  (45, 36, 45),\n",
       "  (37, 51, 45),\n",
       "  (50, 67, 45),\n",
       "  (49, 81, 45),\n",
       "  (43, 93, 45),\n",
       "  (19, 109, 45)],\n",
       " 2: [(35, 0, 90),\n",
       "  (1, 10, 60),\n",
       "  (15, 21, 60),\n",
       "  (22, 32, 60),\n",
       "  (33, 41, 60),\n",
       "  (39, 50, 60),\n",
       "  (16, 60, 60),\n",
       "  (13, 70, 60),\n",
       "  (26, 82, 60),\n",
       "  (41, 92, 60),\n",
       "  (42, 103, 60)],\n",
       " 3: [(18, 0, 90),\n",
       "  (28, 9, 54),\n",
       "  (48, 20, 53),\n",
       "  (44, 30, 53),\n",
       "  (31, 42, 53),\n",
       "  (8, 54, 53),\n",
       "  (40, 64, 53),\n",
       "  (17, 78, 53),\n",
       "  (27, 88, 53),\n",
       "  (25, 100, 53),\n",
       "  (24, 111, 53)],\n",
       " 4: [(20, 0, 90),\n",
       "  (6, 11, 49),\n",
       "  (14, 25, 49),\n",
       "  (5, 38, 49),\n",
       "  (34, 49, 49),\n",
       "  (32, 60, 49),\n",
       "  (11, 73, 49),\n",
       "  (29, 88, 49),\n",
       "  (30, 100, 49),\n",
       "  (2, 111, 49)],\n",
       " 5: [(4, 0, 90),\n",
       "  (12, 9, 72),\n",
       "  (9, 19, 52),\n",
       "  (46, 32, 45),\n",
       "  (10, 45, 45),\n",
       "  (47, 60, 45),\n",
       "  (3, 76, 45),\n",
       "  (38, 88, 45),\n",
       "  (21, 102, 45)]}"
      ]
     },
     "execution_count": 12,
     "metadata": {},
     "output_type": "execute_result"
    }
   ],
   "source": [
    "job_schedule"
   ]
  },
  {
   "cell_type": "code",
   "execution_count": 11,
   "metadata": {},
   "outputs": [
    {
     "data": {
      "text/plain": [
       "{1: [(23, 0),\n",
       "  (36, 0),\n",
       "  (7, 5),\n",
       "  (45, 23),\n",
       "  (37, 55),\n",
       "  (50, 99),\n",
       "  (49, 154),\n",
       "  (43, 224),\n",
       "  (19, 303)],\n",
       " 2: [(35, 0),\n",
       "  (1, 0),\n",
       "  (15, 0),\n",
       "  (22, 8),\n",
       "  (33, 24),\n",
       "  (39, 49),\n",
       "  (16, 83),\n",
       "  (13, 128),\n",
       "  (26, 182),\n",
       "  (41, 246),\n",
       "  (42, 320)],\n",
       " 3: [(18, 0),\n",
       "  (28, 0),\n",
       "  (48, 0),\n",
       "  (44, 10),\n",
       "  (31, 30),\n",
       "  (8, 58),\n",
       "  (40, 100),\n",
       "  (17, 150),\n",
       "  (27, 212),\n",
       "  (25, 283),\n",
       "  (24, 363)],\n",
       " 4: [(20, 0),\n",
       "  (6, 0),\n",
       "  (14, 6),\n",
       "  (5, 21),\n",
       "  (34, 46),\n",
       "  (32, 83),\n",
       "  (11, 134),\n",
       "  (29, 195),\n",
       "  (30, 265),\n",
       "  (2, 347)],\n",
       " 5: [(4, 0),\n",
       "  (12, 0),\n",
       "  (9, 1),\n",
       "  (46, 13),\n",
       "  (10, 39),\n",
       "  (47, 79),\n",
       "  (3, 129),\n",
       "  (38, 192),\n",
       "  (21, 266)]}"
      ]
     },
     "execution_count": 11,
     "metadata": {},
     "output_type": "execute_result"
    }
   ],
   "source": [
    "tardiness"
   ]
  },
  {
   "cell_type": "code",
   "execution_count": 253,
   "metadata": {},
   "outputs": [
    {
     "name": "stdout",
     "output_type": "stream",
     "text": [
      "工作排程：\n",
      " {1: [(23, 0, 90), (36, 9, 63), (7, 20, 45), (45, 36, 45), (37, 51, 45), (50, 67, 45), (49, 81, 45), (43, 93, 45), (19, 109, 45)], 2: [(35, 0, 90), (1, 10, 60), (15, 21, 60), (22, 32, 60), (33, 41, 60), (39, 50, 60), (16, 60, 60), (13, 70, 60), (26, 82, 60), (41, 92, 60), (42, 103, 60)], 3: [(18, 0, 90), (28, 9, 54), (48, 20, 53), (44, 30, 53), (31, 42, 53), (8, 54, 53), (40, 64, 53), (17, 78, 53), (27, 88, 53), (25, 100, 53), (24, 111, 53)], 4: [(20, 0, 90), (6, 11, 49), (14, 25, 49), (5, 38, 49), (34, 49, 49), (32, 60, 49), (11, 73, 49), (29, 88, 49), (30, 100, 49), (2, 111, 49)], 5: [(4, 0, 90), (12, 9, 72), (9, 19, 52), (46, 32, 45), (10, 45, 45), (47, 60, 45), (3, 76, 45), (38, 88, 45), (21, 102, 45)]}\n",
      "機台累積 tardiness：\n",
      " {1: 303, 2: 320, 3: 363, 4: 347, 5: 266}\n",
      "總 tardiness：\n",
      " 1599\n"
     ]
    }
   ],
   "source": [
    "print('工作排程：\\n',job_schedule)\n",
    "print('機台累積 tardiness：\\n',cu_tard)\n",
    "print('總 tardiness：\\n',sum(cu_tard.values()))"
   ]
  },
  {
   "cell_type": "code",
   "execution_count": 254,
   "metadata": {
    "scrolled": true
   },
   "outputs": [],
   "source": [
    "# 初始解 GREEDY 找維修\n",
    "maint_sche, new_cu_tard, new_tardiness, new_job_schedule = decide_maintenance(job_schedule, cu_tard, tardiness, h, pro_rate, maintain_time)"
   ]
  },
  {
   "cell_type": "code",
   "execution_count": 255,
   "metadata": {},
   "outputs": [
    {
     "name": "stdout",
     "output_type": "stream",
     "text": [
      "工作排程：\n",
      " {1: [(23, 0, 90), (36, 9, 63), (7, 20, 45), (45, 36, 45), (37, 51, 45), (50, 67, 45), (49, 81, 45), (43, 93, 45), (19, 109, 45)], 2: [(35, 0, 90), (1, 10, 60), (15, 21, 60), (22, 32, 60), (33, 41, 60), (39, 50, 60), (16, 60, 60), (13, 70, 60), (26, 82, 60), (41, 92, 60), (42, 103, 60)], 3: [(18, 0, 90), (28, 11, 100), (48, 19, 100), (44, 25, 76), (31, 36, 53), (8, 48, 53), (40, 58, 53), (17, 72, 53), (27, 82, 53), (25, 94, 53), (24, 105, 53)], 4: [(20, 0, 90), (6, 13, 100), (14, 24, 100), (5, 34, 100), (34, 41, 58), (32, 52, 49), (11, 65, 49), (29, 80, 49), (30, 92, 49), (2, 103, 49)], 5: [(4, 0, 90), (12, 9, 72), (9, 19, 52), (46, 32, 45), (10, 45, 45), (47, 60, 45), (3, 76, 45), (38, 88, 45), (21, 102, 45)]}\n",
      "維修時程：\n",
      " [(3, 9), (4, 11), (4, 22), (3, 17), (4, 32)]\n",
      "機台累積 tardiness：\n",
      " {1: 303, 2: 320, 3: 315, 4: 297, 5: 266}\n",
      "總 tardiness：\n",
      " 1501\n"
     ]
    }
   ],
   "source": [
    "print('工作排程：\\n',new_job_schedule)\n",
    "print('維修時程：\\n',maint_sche)\n",
    "print('機台累積 tardiness：\\n',new_cu_tard)\n",
    "print('總 tardiness：\\n',sum(new_cu_tard.values()))"
   ]
  },
  {
   "cell_type": "code",
   "execution_count": 256,
   "metadata": {},
   "outputs": [
    {
     "data": {
      "text/plain": [
       "1501"
      ]
     },
     "execution_count": 256,
     "metadata": {},
     "output_type": "execute_result"
    }
   ],
   "source": [
    "base_maint_tard = sum(new_cu_tard.values())  # 紀錄使用 EDD + GREEDY 解出的 tardiness 作為 benchmark\n",
    "base_maint_tard"
   ]
  },
  {
   "cell_type": "code",
   "execution_count": 257,
   "metadata": {},
   "outputs": [
    {
     "name": "stdout",
     "output_type": "stream",
     "text": [
      "improve! tardiness =  1445\n",
      "improve! tardiness =  1422\n",
      "improve! tardiness =  1417\n",
      "improve! tardiness =  1408\n",
      "improve! tardiness =  1369\n",
      "improve! tardiness =  1365\n",
      "improve! tardiness =  1359\n",
      "improve! tardiness =  1357\n",
      "improve! tardiness =  1349\n",
      "improve! tardiness =  1340\n",
      "improve! tardiness =  1335\n",
      "improve! tardiness =  1334\n"
     ]
    }
   ],
   "source": [
    "# Tabu \n",
    "# def Tabu(max_tabu_size, base_maint_tard, job_schedule, pro_rate, tardiness, decrease_rate, L_yield_rate, cu_tard, swap_maint_sche):\n",
    "\n",
    "max_tabu_size = 30  # 避免重覆交換的 list\n",
    "tabu_list = []\n",
    "swap_job_schedule = copy.deepcopy(job_schedule)\n",
    "swap_cu_tard = copy.deepcopy(cu_tard)\n",
    "swap_tardiness = copy.deepcopy(tardiness)\n",
    "swap_maint_sche = copy.deepcopy(maint_sche)\n",
    "\n",
    "# 將工作分層\n",
    "job_level = find_max_q_job(job_schedule)\n",
    "no_better = 0\n",
    "while no_better < 50:  # 連續 50 次交換都沒有更好，則停止\n",
    "    # 選層\n",
    "    rand_j = random.randint(0, len(job_level)-1)\n",
    "    while len(job_level[rand_j]) < 2:\n",
    "        rand_j = random.randint(0, len(job_level)-1)\n",
    "    # 選 job\n",
    "    resultList = random.sample(range(0, len(job_level[rand_j])),2)\n",
    "    job_1 = job_level[rand_j][resultList[0]]\n",
    "    job_2 = job_level[rand_j][resultList[1]]\n",
    "    if (job_1,job_2) or (job_2,job_1) not in tabu_list: # 沒有換過，才要換換看\n",
    "#         print(job_1,job_2)\n",
    "        # 先建立一個紀錄交換排程用的資料\n",
    "        temp_job_schedule = copy.deepcopy(swap_job_schedule)\n",
    "        temp_cu_tard = copy.deepcopy(swap_cu_tard)\n",
    "        temp_tardiness = copy.deepcopy(swap_tardiness)\n",
    "        for i in range(m):  # 找出要交換的工作機台時間位址並重新規劃\n",
    "            machine = i+1\n",
    "            index = 0\n",
    "            for job_n, t, init_yr in job_schedule[machine]:\n",
    "                if job_n == job_1:\n",
    "                    machine_1 = machine \n",
    "                    index_1 = index \n",
    "                    new_tardiness_list_1, new_tard_1, new_schedule_1 = reschedule(t, init_yr, job_2, pro_rate[machine], job_schedule[machine][index+1:],\n",
    "                                                                            tardiness[machine][index][1], decrease_rate[machine], L_yield_rate[machine])\n",
    "\n",
    "                elif job_n == job_2:\n",
    "                    machine_2 = machine \n",
    "                    index_2 = index \n",
    "                    new_tardiness_list_2, new_tard_2, new_schedule_2 = reschedule(t, init_yr, job_1, pro_rate[machine], job_schedule[machine][index+1:],\n",
    "                                                                            tardiness[machine][index][1], decrease_rate[machine], L_yield_rate[machine])\n",
    "                index += 1\n",
    "        # 將交換排程紀錄下來\n",
    "        temp_tardiness[machine_1][index_1:] = new_tardiness_list_1 \n",
    "        temp_tardiness[machine_2][index_2:] = new_tardiness_list_2\n",
    "        temp_cu_tard[machine_1] = new_tard_1\n",
    "        temp_cu_tard[machine_2] = new_tard_2\n",
    "        temp_job_schedule[machine_1][index_1:] = new_schedule_1 \n",
    "        temp_job_schedule[machine_2][index_2:] = new_schedule_2 \n",
    "        \n",
    "        # 交換後，插入維修\n",
    "        temp_maint_sche, temp_new_cu_tard, temp_new_tardiness, temp_new_job_schedule = decide_maintenance(temp_job_schedule, temp_cu_tard, temp_tardiness, h, pro_rate, maintain_time)\n",
    "        if  sum(temp_new_cu_tard.values()) < base_maint_tard:  # 表示新的交換有進步，則更新排程\n",
    "            print(\"improve! tardiness = \",sum(temp_new_cu_tard.values()))\n",
    "            no_better = 0  # 將連續找不到的次數歸零\n",
    "            # 更新排程資訊\n",
    "            base_maint_tard = sum(temp_new_cu_tard.values())\n",
    "            swap_tardiness = temp_tardiness\n",
    "            swap_cu_tard = temp_cu_tard\n",
    "            swap_job_schedule = temp_job_schedule\n",
    "        else:\n",
    "             no_better += 1  # 將連續找不到的次數 + 1\n",
    "        # 沒看過，更新 tabu list 資訊\n",
    "        tabu_list.append((job_1,job_2))\n",
    "        if len(tabu_list) > max_tabu_size:\n",
    "            tabu_list.pop(0)\n",
    "    else:\n",
    "        no_better += 1  # 將連續找不到的次數 + 1           "
   ]
  },
  {
   "cell_type": "code",
   "execution_count": 154,
   "metadata": {},
   "outputs": [],
   "source": [
    "# 把最好的排程找維修決策\n",
    "swap_maint_sche, swap_maint_cu_tard, swap_maint_tardiness, swap_maint_job_schedule = decide_maintenance(swap_job_schedule, swap_cu_tard, swap_tardiness, h, pro_rate,maintain_time)"
   ]
  },
  {
   "cell_type": "code",
   "execution_count": 155,
   "metadata": {},
   "outputs": [
    {
     "name": "stdout",
     "output_type": "stream",
     "text": [
      "維修時程：\n",
      " [(1, 0), (1, 163)]\n",
      "總 tardiness：\n",
      " 503793\n"
     ]
    }
   ],
   "source": [
    "# print('工作排程：\\n',swap_maint_job_schedule)\n",
    "print('維修時程：\\n',swap_maint_sche)\n",
    "# print('機台累積 tardiness：\\n',swap_maint_cu_tard)\n",
    "print('總 tardiness：\\n',sum(swap_maint_cu_tard.values()))"
   ]
  },
  {
   "cell_type": "code",
   "execution_count": null,
   "metadata": {},
   "outputs": [],
   "source": []
  },
  {
   "cell_type": "code",
   "execution_count": 145,
   "metadata": {},
   "outputs": [],
   "source": [
    "# 找要維修的分多一點工作 e.g.找每層最大訂單數給他，並且至少補到平均層數\n",
    "# num_list = []\n",
    "# for j in job_schedule:\n",
    "#     num_list.append(len(job_schedule[j]))\n",
    "# mean_num = int(np.mean(num_list))\n",
    "# for m,t in maint_sche:\n",
    "#     if len(job_schedule[m]) < mean_num:\n",
    "#         i = num_list.index(max(num_list))\n",
    "#         swap(job_schedule[i][-1],job_schedule[m])"
   ]
  },
  {
   "cell_type": "code",
   "execution_count": 10,
   "metadata": {},
   "outputs": [
    {
     "data": {
      "text/plain": [
       "[(0, 0), (1, 2), (1, 3), (2, 3)]"
      ]
     },
     "execution_count": 10,
     "metadata": {},
     "output_type": "execute_result"
    }
   ],
   "source": [
    "import itertools\n",
    "aa = [1,2,3]\n",
    "k = [(0,0)]\n",
    "k.extend(list(itertools.combinations(aa, 2)))\n",
    "k"
   ]
  },
  {
   "cell_type": "code",
   "execution_count": 20,
   "metadata": {},
   "outputs": [],
   "source": [
    "def new_simple(job1, job2, simple_sche):\n",
    "    new_sche = copy.deepcopy(simple_sche)\n",
    "    for m in simple_sche.keys():\n",
    "        for i in range(len(simple_sche[m])):\n",
    "            if simple_sche[m][i] == job1:\n",
    "                new_sche[m][i] = job2\n",
    "            elif simple_sche[m][i] == job2:\n",
    "                new_sche[m][i] = job1 \n",
    "    return new_sche"
   ]
  },
  {
   "cell_type": "code",
   "execution_count": 21,
   "metadata": {},
   "outputs": [],
   "source": [
    "simple_sche = {1: [6, 5, 4, 10, 8], 2: [1, 7, 3, 9, 2]}"
   ]
  },
  {
   "cell_type": "code",
   "execution_count": 22,
   "metadata": {},
   "outputs": [],
   "source": [
    "job_1 = 6\n",
    "job_2 = 1\n",
    "new_simple_shce =  new_simple(job_1, job_2, simple_sche)"
   ]
  },
  {
   "cell_type": "code",
   "execution_count": 23,
   "metadata": {},
   "outputs": [
    {
     "data": {
      "text/plain": [
       "{1: [1, 5, 4, 10, 8], 2: [6, 7, 3, 9, 2]}"
      ]
     },
     "execution_count": 23,
     "metadata": {},
     "output_type": "execute_result"
    }
   ],
   "source": [
    "new_simple_shce"
   ]
  },
  {
   "cell_type": "code",
   "execution_count": 2,
   "metadata": {},
   "outputs": [
    {
     "data": {
      "text/plain": [
       "2"
      ]
     },
     "execution_count": 2,
     "metadata": {},
     "output_type": "execute_result"
    }
   ],
   "source": [
    "from functions import *\n",
    "from tqdm import tqdm \n",
    "def EDD_alt(m, n, h, pro_rate, decrease_rate, maintain_time, initial_yield_rate, L_yield_rate, job_dic):\n",
    "\n",
    "    # 排工作，不考慮維修 (initail solution)\n",
    "    sort_job_dic = dict(sorted(job_dic.items(), key=lambda item: item[1][0]))\n",
    "    sort_job_dic = dict(sorted(sort_job_dic.items(), key=lambda item: item[1][1]))\n",
    "\n",
    "    machine_workload = {}  # 紀錄結束工作量\n",
    "    job_schedule = {}  #記錄 (job,開始時間,初始良率)\n",
    "    loss= {}  #記錄各機台累積的 (job,tardiness)\n",
    "    cu_loss = {}  # 記錄各機台累積 tardiness\n",
    "    init_yr = {}  # 複製紀錄初始良率\n",
    "    \n",
    "    # 產生 EDD 排程\n",
    "    for i in range(m):\n",
    "        machine_workload[i+1] = 0\n",
    "        job_schedule[i+1] = []\n",
    "        cu_loss[i+1] = 0\n",
    "        loss[i+1] = []\n",
    "        init_yr[i+1] = initial_yield_rate[i+1]\n",
    "    print(\"正在用 EDD rule 產生排程：\")\n",
    "    for no,[load,due] in tqdm(sort_job_dic.items()):  # 利用 EDD + SPT 排完所有工作\n",
    "        min_machine = select_machine(machine_workload)  # 選目前完成時間最短的機台\n",
    "        job_schedule[min_machine].append((no,machine_workload[min_machine],init_yr[min_machine]))\n",
    "        after_rate = init_yr[min_machine]\n",
    "        temp_load = load\n",
    "        while temp_load > 0 and machine_workload[min_machine] < due:  # 未完成訂單且未到 due day\n",
    "            rec_rate = (after_rate/100)*pro_rate\n",
    "            temp_load -= rec_rate\n",
    "            if after_rate > L_yield_rate:\n",
    "                after_rate -= decrease_rate\n",
    "                if after_rate < L_yield_rate:  # 不能低於良率 lower bound\n",
    "                    after_rate = L_yield_rate\n",
    "            machine_workload[min_machine] += 1\n",
    "        init_yr[min_machine] = after_rate\n",
    "        if temp_load > 0:  # 未滿足交期\n",
    "            cu_loss[min_machine] += temp_load  # 只有太晚做完才要算 cost\n",
    "        loss[min_machine].append((no,cu_loss[min_machine]))\n",
    "    print('維修前的 EDD 排程總 tardiness：\\n',sum(cu_loss.values()))\n",
    "    \n",
    "    # 初始解 GREEDY 找維修\n",
    "    maint_sche, new_cu_tard, new_tardiness, new_job_schedule = \\\n",
    "        alt_decide_maintenance(decrease_rate, job_schedule, cu_loss, loss, h, pro_rate, maintain_time, job_dic, L_yield_rate)\n",
    "    \n",
    "    print('產生維修時程：\\n',maint_sche)\n",
    "    print('維修後的 EDD 排程總 production loss = ',sum(new_cu_tard.values()))\n",
    "    edd_obj = sum(new_cu_tard.values())\n",
    "    \n",
    "    return job_schedule, tardiness, cu_tard, maint_sche, new_cu_tard, new_tardiness, new_job_schedule, edd_obj"
   ]
  },
  {
   "cell_type": "code",
   "execution_count": null,
   "metadata": {},
   "outputs": [],
   "source": []
  },
  {
   "cell_type": "code",
   "execution_count": null,
   "metadata": {},
   "outputs": [],
   "source": []
  }
 ],
 "metadata": {
  "kernelspec": {
   "display_name": "Python 3",
   "language": "python",
   "name": "python3"
  },
  "language_info": {
   "codemirror_mode": {
    "name": "ipython",
    "version": 3
   },
   "file_extension": ".py",
   "mimetype": "text/x-python",
   "name": "python",
   "nbconvert_exporter": "python",
   "pygments_lexer": "ipython3",
   "version": "3.6.10"
  }
 },
 "nbformat": 4,
 "nbformat_minor": 4
}
