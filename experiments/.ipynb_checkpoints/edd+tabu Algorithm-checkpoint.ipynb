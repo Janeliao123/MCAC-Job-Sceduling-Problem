{
 "cells": [
  {
   "cell_type": "code",
   "execution_count": 67,
   "metadata": {},
   "outputs": [],
   "source": [
    "from tqdm import tqdm \n",
    "import random\n",
    "import numpy as np\n",
    "import copy"
   ]
  },
  {
   "cell_type": "code",
   "execution_count": 68,
   "metadata": {},
   "outputs": [],
   "source": [
    "def select_machine(machine_workload):  # 選目前完成時間最短的機台\n",
    "    temp = sorted(machine_workload.items(), key=lambda item: item[1])[0][0]\n",
    "    return temp"
   ]
  },
  {
   "cell_type": "code",
   "execution_count": 69,
   "metadata": {},
   "outputs": [],
   "source": [
    "def job_time(workload, initial_yield_rate, decrease_rate, lower_bound, pro_rate):  # 計算訂單要花多少時間\n",
    "    time = 0\n",
    "    after_rate = initial_yield_rate\n",
    "    while workload > 0:  # 直到滿足訂單數\n",
    "        rec_rate = (after_rate/100)*pro_rate\n",
    "        workload -= rec_rate\n",
    "        if after_rate > lower_bound:\n",
    "            after_rate -= decrease_rate\n",
    "            if after_rate < lower_bound:  # 不能低於良率 lower bound\n",
    "                after_rate = lower_bound\n",
    "        time += 1\n",
    "    return time, after_rate"
   ]
  },
  {
   "cell_type": "code",
   "execution_count": 70,
   "metadata": {},
   "outputs": [],
   "source": [
    "def insert_maintenance(time, maintain_t, pro_rate, schedule, tardiness, decrease_rate, L_yield_rate):  # 在某個時間點插入維修重新規劃後的結果\n",
    "    time += maintain_t  # 加上維修時間\n",
    "    init_yr = 100  # 修到 100 %\n",
    "    new_tard = tardiness\n",
    "    new_schedule = []\n",
    "    new_tardiness_list = []\n",
    "    for job_n,t,_ in schedule:  # 剩下還沒有排到的工作\n",
    "        due = job_dic[job_n][1]\n",
    "        new_schedule.append((job_n, time, init_yr))\n",
    "        cost_time, after_yield = job_time(job_dic[job_n][0], init_yr, decrease_rate, L_yield_rate, pro_rate)\n",
    "        time += cost_time\n",
    "        init_yr = after_yield\n",
    "        new_tard += max(time-due,0)  # 只有太晚做完才要算 cost\n",
    "        new_tardiness_list.append((job_n,new_tard))\n",
    "    return new_tardiness_list, new_tard, new_schedule"
   ]
  },
  {
   "cell_type": "code",
   "execution_count": 79,
   "metadata": {
    "scrolled": true
   },
   "outputs": [],
   "source": [
    "def decide_maintenance(job_schedule, cu_tard, tardiness, h, pro_rate, maintain_time):  # GREEDY 選擇會更好的維修決策\n",
    "    maintenance_schedule = []  #紀錄修過的紀錄 (機台,時間)\n",
    "    cnt = 0\n",
    "    new_cu_tard = copy.deepcopy(cu_tard)\n",
    "    new_tardiness = copy.deepcopy(tardiness)\n",
    "    new_job_schedule = copy.deepcopy(job_schedule)\n",
    "    while cnt < h:  # 最多可以修 h 台\n",
    "        flag = 0  # 假設該輪沒有找到更好的，就會是 0\n",
    "        best_improve_tard = 0\n",
    "        for machine in range(len(job_schedule)):  # 每台機台都跑過\n",
    "            machine_no = machine + 1\n",
    "            index = 0  # 紀錄跑到機台上的哪個 job\n",
    "            m_improve_tard = 0\n",
    "            m_tard = new_cu_tard[machine_no]  # 初始設定最小 tardiness為原先機台 (machine_no) 的 tardiness\n",
    "#             print(new_job_schedule)\n",
    "            for job_no,time,yr in new_job_schedule[machine_no]:  # 每台機台的每個地方插入維修，求最好的\n",
    "                temp_tardiness_list, temp_tard, temp_schedule = insert_maintenance(time, maintain_time[machine_no], pro_rate[machine_no], new_job_schedule[machine_no][index:], \n",
    "                                                            new_tardiness[machine_no][index][1], decrease_rate[machine_no], L_yield_rate[machine_no])  # 計算插入 maintenance 後會不會比較好\n",
    "                if temp_tard < m_tard:\n",
    "#                     print(\"可以改善該機台\")\n",
    "                    flag = 1\n",
    "                    m_index = index\n",
    "                    m_improve_tard = m_tard - temp_tard\n",
    "                    m_tard = temp_tard\n",
    "                    m_tardiness_list = temp_tardiness_list\n",
    "                    m_schedule = temp_schedule\n",
    "                    m_info = (machine_no,time)  # (維修機台, 維修時間)\n",
    "                index += 1\n",
    "            if m_improve_tard > best_improve_tard:\n",
    "#                 print(\"可以改善整體\")\n",
    "                best_index = m_index\n",
    "                best_tard = m_tard\n",
    "                best_tardiness_list = m_tardiness_list\n",
    "                best_schedule = m_schedule\n",
    "                best_info = m_info\n",
    "                best_improve_tard = m_improve_tard\n",
    "        if flag == 1:  # 維修會更好\n",
    "            cnt += 1\n",
    "            new_cu_tard[best_info[0]] = best_tard\n",
    "            new_tardiness[best_info[0]][best_index:]= best_tardiness_list\n",
    "            new_job_schedule[best_info[0]][best_index:] = best_schedule\n",
    "            maintenance_schedule.append(best_info)\n",
    "        else:\n",
    "            break\n",
    "    return maintenance_schedule, new_cu_tard, new_tardiness, new_job_schedule"
   ]
  },
  {
   "cell_type": "code",
   "execution_count": 123,
   "metadata": {},
   "outputs": [],
   "source": [
    "def find_max_q_job(job_schedule):  # 找出同一層的工作\n",
    "    pos_jobs = {}\n",
    "    max_pos = max([len(x) for x in job_schedule.values()])\n",
    "    position = range(0,max_pos)\n",
    "    for p in position:\n",
    "        pos_jobs[p] = []\n",
    "        for j in job_schedule:\n",
    "            if len(job_schedule[j]) > p:\n",
    "                 pos_jobs[p].append(job_schedule[j][p][0])\n",
    "    return pos_jobs"
   ]
  },
  {
   "cell_type": "code",
   "execution_count": 124,
   "metadata": {},
   "outputs": [],
   "source": [
    "def reschedule(time, init_yr, new_job, pro_rate, schedule, tardiness, decrease_rate, L_yield_rate):  #將工作重新排列後\n",
    "    new_tard = tardiness\n",
    "    new_tardiness_list = []\n",
    "    new_schedule = []\n",
    "    # 算新插入的交換工作\n",
    "    new_schedule.append((new_job, time, init_yr))\n",
    "    cost_time, after_yield = job_time(job_dic[new_job][0], init_yr, decrease_rate, L_yield_rate, pro_rate)\n",
    "    time += cost_time\n",
    "    init_yr = after_yield\n",
    "    due = job_dic[new_job][1]\n",
    "    new_tard += max(time-due,0)\n",
    "    new_tardiness_list.append((new_job,new_tard))\n",
    "    # 後面依序重新計算\n",
    "    for job_n,t,_ in schedule:\n",
    "        due = job_dic[job_n][1]\n",
    "        new_schedule.append((job_n, time, init_yr))\n",
    "        cost_time, after_yield = job_time(job_dic[job_n][0], init_yr, decrease_rate, L_yield_rate, pro_rate)\n",
    "        time += cost_time\n",
    "        init_yr = after_yield\n",
    "        new_tard += max(time-due,0)  # 只有太晚做完才要算 cost\n",
    "        new_tardiness_list.append((job_n,new_tard))\n",
    "    return new_tardiness_list, new_tard, new_schedule"
   ]
  },
  {
   "cell_type": "code",
   "execution_count": 146,
   "metadata": {},
   "outputs": [],
   "source": [
    "# 讀入 input\n",
    "with open(\"2001031801.4.in\",\"r\") as f:\n",
    "    m_n_h = [int(x) for x in f.readline().strip().split(' ')]\n",
    "    m = m_n_h[0]  # 機台數\n",
    "    n = m_n_h[1]  # 訂單數\n",
    "    h = m_n_h[2]  # 最多修幾台\n",
    "    pro_rate = {}  # 生產速率\n",
    "    decrease_rate = {}  # 機台下降良率\n",
    "    maintain_time = {}  # 機台維修時間\n",
    "    initial_yield_rate = {}  # 初始良率\n",
    "    L_yield_rate = {}  # 最低良率\n",
    "    for i in range(m):  # 機台編號由 1 開始\n",
    "        machine_info = [int(x) for x in f.readline().strip().split(' ')]\n",
    "        pro_rate[i+1] = machine_info[0]\n",
    "        decrease_rate[i+1] = machine_info[1]\n",
    "        maintain_time[i+1] = machine_info[2]\n",
    "        initial_yield_rate[i+1] = machine_info[3]\n",
    "        L_yield_rate[i+1] = machine_info[4]\n",
    "    lines = f.readlines()\n",
    "job_dic = {}  # job_dic[機台編號] = [訂購量,交期]\n",
    "job_no = 1\n",
    "for l in lines:\n",
    "    temp = [int(x) for x in l.strip().split(' ')]\n",
    "    job_dic[job_no] = temp  \n",
    "    job_no += 1\n"
   ]
  },
  {
   "cell_type": "code",
   "execution_count": 147,
   "metadata": {},
   "outputs": [],
   "source": [
    "# 排工作，不考慮維修 (initail solution)\n",
    "sort_job_dic = dict(sorted(job_dic.items(), key=lambda item: item[1][0]))\n",
    "sort_job_dic = dict(sorted(sort_job_dic.items(), key=lambda item: item[1][1]))\n",
    "\n",
    "machine_workload = {}  # 紀錄結束工作量\n",
    "job_schedule = {}  #記錄 (job,開始時間,初始良率)\n",
    "tardiness= {}  #記錄各機台累積的 (job,tardiness)\n",
    "cu_tard = {}  # 記錄各機台累積 tardiness\n",
    "init_yr = {}  # 複製紀錄初始良率"
   ]
  },
  {
   "cell_type": "code",
   "execution_count": 148,
   "metadata": {},
   "outputs": [
    {
     "name": "stderr",
     "output_type": "stream",
     "text": [
      "100%|█████████████████████████████████████████████████████████████████████████████| 302/302 [00:00<00:00, 60548.75it/s]\n"
     ]
    }
   ],
   "source": [
    "# 產生 EDD 排程\n",
    "for i in range(m):\n",
    "    machine_workload[i+1] = 0\n",
    "    job_schedule[i+1] = []\n",
    "    cu_tard[i+1] = 0\n",
    "    tardiness[i+1] = []\n",
    "    init_yr[i+1] = initial_yield_rate[i+1]\n",
    "\n",
    "for no,[load,due] in tqdm(sort_job_dic.items()):  #利用 EDD + SPT 排完所有工作\n",
    "    min_machine = select_machine(machine_workload)  # 選目前完成時間最短的機台\n",
    "    job_schedule[min_machine].append((no,machine_workload[min_machine],init_yr[min_machine]))  \n",
    "    cost_time, after_yield = job_time(load, init_yr[min_machine], decrease_rate[min_machine], L_yield_rate[min_machine],pro_rate[min_machine])\n",
    "    machine_workload[min_machine] += cost_time\n",
    "    init_yr[min_machine] = after_yield\n",
    "    cu_tard[min_machine] += max(machine_workload[min_machine]-due,0)  # 只有太晚做完才要算 cost\n",
    "    tardiness[min_machine].append((no,cu_tard[min_machine]))"
   ]
  },
  {
   "cell_type": "code",
   "execution_count": 149,
   "metadata": {},
   "outputs": [
    {
     "name": "stdout",
     "output_type": "stream",
     "text": [
      "總 tardiness：\n",
      " 525834\n"
     ]
    }
   ],
   "source": [
    "# print('工作排程：\\n',job_schedule)\n",
    "# print('機台累積 tardiness：\\n',cu_tard)\n",
    "print('總 tardiness：\\n',sum(cu_tard.values()))"
   ]
  },
  {
   "cell_type": "code",
   "execution_count": 150,
   "metadata": {
    "scrolled": true
   },
   "outputs": [],
   "source": [
    "# 初始解 GREEDY 找維修\n",
    "maint_sche, new_cu_tard, new_tardiness, new_job_schedule = decide_maintenance(job_schedule, cu_tard, tardiness, h, pro_rate, maintain_time)"
   ]
  },
  {
   "cell_type": "code",
   "execution_count": 151,
   "metadata": {},
   "outputs": [
    {
     "name": "stdout",
     "output_type": "stream",
     "text": [
      "維修時程：\n",
      " [(1, 0), (1, 163)]\n",
      "總 tardiness：\n",
      " 505033\n"
     ]
    }
   ],
   "source": [
    "# print('工作排程：\\n',new_job_schedule)\n",
    "print('維修時程：\\n',maint_sche)\n",
    "# print('機台累積 tardiness：\\n',new_cu_tard)\n",
    "print('總 tardiness：\\n',sum(new_cu_tard.values()))"
   ]
  },
  {
   "cell_type": "code",
   "execution_count": 152,
   "metadata": {},
   "outputs": [
    {
     "data": {
      "text/plain": [
       "505033"
      ]
     },
     "execution_count": 152,
     "metadata": {},
     "output_type": "execute_result"
    }
   ],
   "source": [
    "base_maint_tard = sum(new_cu_tard.values())  # 紀錄使用 EDD + GREEDY 解出的 tardiness 作為 benchmark\n",
    "base_maint_tard"
   ]
  },
  {
   "cell_type": "code",
   "execution_count": 153,
   "metadata": {},
   "outputs": [
    {
     "name": "stdout",
     "output_type": "stream",
     "text": [
      "improve! tardiness =  503793\n"
     ]
    }
   ],
   "source": [
    "# Tabu \n",
    "# def Tabu(max_tabu_size, base_maint_tard, job_schedule, pro_rate, tardiness, decrease_rate, L_yield_rate, cu_tard, swap_maint_sche):\n",
    "\n",
    "max_tabu_size = 30  # 避免重覆交換的 list\n",
    "tabu_list = []\n",
    "swap_job_schedule = copy.deepcopy(job_schedule)\n",
    "swap_cu_tard = copy.deepcopy(cu_tard)\n",
    "swap_tardiness = copy.deepcopy(tardiness)\n",
    "swap_maint_sche = copy.deepcopy(maint_sche)\n",
    "\n",
    "# 將工作分層\n",
    "job_level = find_max_q_job(job_schedule)\n",
    "no_better = 0\n",
    "while no_better < 50:  # 連續 50 次交換都沒有更好，則停止\n",
    "    # 選層\n",
    "    rand_j = random.randint(0, len(job_level)-1)\n",
    "    while len(job_level[rand_j]) < 2:\n",
    "        rand_j = random.randint(0, len(job_level)-1)\n",
    "    # 選 job\n",
    "    resultList = random.sample(range(0, len(job_level[rand_j])),2)\n",
    "    job_1 = job_level[rand_j][resultList[0]]\n",
    "    job_2 = job_level[rand_j][resultList[1]]\n",
    "    if (job_1,job_2) or (job_2,job_1) not in tabu_list: # 沒有換過，才要換換看\n",
    "#         print(job_1,job_2)\n",
    "        # 先建立一個紀錄交換排程用的資料\n",
    "        temp_job_schedule = copy.deepcopy(swap_job_schedule)\n",
    "        temp_cu_tard = copy.deepcopy(swap_cu_tard)\n",
    "        temp_tardiness = copy.deepcopy(swap_tardiness)\n",
    "        for i in range(m):  # 找出要交換的工作機台時間位址並重新規劃\n",
    "            machine = i+1\n",
    "            index = 0\n",
    "            for job_n, t, init_yr in job_schedule[machine]:\n",
    "                if job_n == job_1:\n",
    "                    machine_1 = machine \n",
    "                    index_1 = index \n",
    "                    new_tardiness_list_1, new_tard_1, new_schedule_1 = reschedule(t, init_yr, job_2, pro_rate[machine], job_schedule[machine][index+1:],\n",
    "                                                                            tardiness[machine][index][1], decrease_rate[machine], L_yield_rate[machine])\n",
    "\n",
    "                elif job_n == job_2:\n",
    "                    machine_2 = machine \n",
    "                    index_2 = index \n",
    "                    new_tardiness_list_2, new_tard_2, new_schedule_2 = reschedule(t, init_yr, job_1, pro_rate[machine], job_schedule[machine][index+1:],\n",
    "                                                                            tardiness[machine][index][1], decrease_rate[machine], L_yield_rate[machine])\n",
    "                index += 1\n",
    "        # 將交換排程紀錄下來\n",
    "        temp_tardiness[machine_1][index_1:] = new_tardiness_list_1 \n",
    "        temp_tardiness[machine_2][index_2:] = new_tardiness_list_2\n",
    "        temp_cu_tard[machine_1] = new_tard_1\n",
    "        temp_cu_tard[machine_2] = new_tard_2\n",
    "        temp_job_schedule[machine_1][index_1:] = new_schedule_1 \n",
    "        temp_job_schedule[machine_2][index_2:] = new_schedule_2 \n",
    "        \n",
    "        # 交換後，插入維修\n",
    "        temp_maint_sche, temp_new_cu_tard, temp_new_tardiness, temp_new_job_schedule = decide_maintenance(temp_job_schedule, temp_cu_tard, temp_tardiness, h, pro_rate, maintain_time)\n",
    "        if  sum(temp_new_cu_tard.values()) < base_maint_tard:  # 表示新的交換有進步，則更新排程\n",
    "            print(\"improve! tardiness = \",sum(temp_new_cu_tard.values()))\n",
    "            no_better = 0  # 將連續找不到的次數歸零\n",
    "            # 更新排程資訊\n",
    "            base_maint_tard = sum(temp_new_cu_tard.values())\n",
    "            swap_tardiness = temp_tardiness\n",
    "            swap_cu_tard = temp_cu_tard\n",
    "            swap_job_schedule = temp_job_schedule\n",
    "        else:\n",
    "             no_better += 1  # 將連續找不到的次數 + 1\n",
    "        # 沒看過，更新 tabu list 資訊\n",
    "        tabu_list.append((job_1,job_2))\n",
    "        if len(tabu_list) > max_tabu_size:\n",
    "            tabu_list.pop(0)\n",
    "    else:\n",
    "        no_better += 1  # 將連續找不到的次數 + 1           "
   ]
  },
  {
   "cell_type": "code",
   "execution_count": 154,
   "metadata": {},
   "outputs": [],
   "source": [
    "# 把最好的排程找維修決策\n",
    "swap_maint_sche, swap_maint_cu_tard, swap_maint_tardiness, swap_maint_job_schedule = decide_maintenance(swap_job_schedule, swap_cu_tard, swap_tardiness, h, pro_rate,maintain_time)"
   ]
  },
  {
   "cell_type": "code",
   "execution_count": 155,
   "metadata": {},
   "outputs": [
    {
     "name": "stdout",
     "output_type": "stream",
     "text": [
      "維修時程：\n",
      " [(1, 0), (1, 163)]\n",
      "總 tardiness：\n",
      " 503793\n"
     ]
    }
   ],
   "source": [
    "# print('工作排程：\\n',swap_maint_job_schedule)\n",
    "print('維修時程：\\n',swap_maint_sche)\n",
    "# print('機台累積 tardiness：\\n',swap_maint_cu_tard)\n",
    "print('總 tardiness：\\n',sum(swap_maint_cu_tard.values()))"
   ]
  },
  {
   "cell_type": "code",
   "execution_count": null,
   "metadata": {},
   "outputs": [],
   "source": []
  },
  {
   "cell_type": "code",
   "execution_count": 145,
   "metadata": {},
   "outputs": [],
   "source": [
    "# 找要維修的分多一點工作 e.g.找每層最大訂單數給他，並且至少補到平均層數\n",
    "# num_list = []\n",
    "# for j in job_schedule:\n",
    "#     num_list.append(len(job_schedule[j]))\n",
    "# mean_num = int(np.mean(num_list))\n",
    "# for m,t in maint_sche:\n",
    "#     if len(job_schedule[m]) < mean_num:\n",
    "#         i = num_list.index(max(num_list))\n",
    "#         swap(job_schedule[i][-1],job_schedule[m])"
   ]
  },
  {
   "cell_type": "code",
   "execution_count": null,
   "metadata": {},
   "outputs": [],
   "source": []
  }
 ],
 "metadata": {
  "kernelspec": {
   "display_name": "Python 3",
   "language": "python",
   "name": "python3"
  },
  "language_info": {
   "codemirror_mode": {
    "name": "ipython",
    "version": 3
   },
   "file_extension": ".py",
   "mimetype": "text/x-python",
   "name": "python",
   "nbconvert_exporter": "python",
   "pygments_lexer": "ipython3",
   "version": "3.6.10"
  }
 },
 "nbformat": 4,
 "nbformat_minor": 4
}
